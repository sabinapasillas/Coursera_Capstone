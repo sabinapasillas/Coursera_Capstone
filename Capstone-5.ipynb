{
 "cells": [
  {
   "cell_type": "markdown",
   "metadata": {},
   "source": [
    "# Data Science Capstone "
   ]
  },
  {
   "cell_type": "markdown",
   "metadata": {},
   "source": [
    "This notebook will be used for the Coursera Capstone Project "
   ]
  },
  {
   "cell_type": "code",
   "execution_count": 4,
   "metadata": {},
   "outputs": [],
   "source": [
    "import pandas as pd\n",
    "import numpy as np"
   ]
  },
  {
   "cell_type": "code",
   "execution_count": 5,
   "metadata": {},
   "outputs": [
    {
     "name": "stdout",
     "output_type": "stream",
     "text": [
      "Hello Capstone Project Course!\n"
     ]
    }
   ],
   "source": [
    "print(\"Hello Capstone Project Course!\")"
   ]
  },
  {
   "cell_type": "markdown",
   "metadata": {},
   "source": [
    "### Introduction / Business Problem"
   ]
  },
  {
   "cell_type": "markdown",
   "metadata": {},
   "source": [
    "A friend of mine is moving to the city of Los Angeles to open an Indian restaurant. I have decided to help her choose what community in Los Angeles she should start her business. She has a few requirements including an area with a high volume of foot traffic which could translate to a more business centered area than residential. She also would not like to be near other Indian restaurants. Lastly, she does not want to work too far from where she lives. She will be moving to Mar Vista and would want to be within a 10 mile radius from her home."
   ]
  },
  {
   "cell_type": "markdown",
   "metadata": {},
   "source": [
    "### Description of Data used"
   ]
  },
  {
   "cell_type": "markdown",
   "metadata": {},
   "source": [
    "I will be primarily using Foursquare location data to first create a map of Los Angeles. Then, I would find the coordinates of where she will be staying exactly to have that be my starting point on. After that I will create a 10 mile radius and explore the top 100 most popular venues in that area. I will then analyze by finding the mean of frequencies of the venues to then find the top 10 most popular venues in each community through Foursquare. After creating a DataFrame of these popular venues and then plotting them on a map using k means clustering,  I will then decide which cluster meets her requirements."
   ]
  },
  {
   "cell_type": "code",
   "execution_count": null,
   "metadata": {},
   "outputs": [],
   "source": []
  }
 ],
 "metadata": {
  "kernelspec": {
   "display_name": "Python",
   "language": "python",
   "name": "conda-env-python-py"
  },
  "language_info": {
   "codemirror_mode": {
    "name": "ipython",
    "version": 3
   },
   "file_extension": ".py",
   "mimetype": "text/x-python",
   "name": "python",
   "nbconvert_exporter": "python",
   "pygments_lexer": "ipython3",
   "version": "3.6.10"
  }
 },
 "nbformat": 4,
 "nbformat_minor": 4
}
